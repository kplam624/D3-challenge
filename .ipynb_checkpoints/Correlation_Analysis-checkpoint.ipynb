{
 "cells": [
  {
   "cell_type": "code",
   "execution_count": 3,
   "metadata": {},
   "outputs": [],
   "source": [
    "# Importing dependencies.\n",
    "import pandas as pd\n",
    "import matplotlib.pyplot as plt\n",
    "import numpy as np\n",
    "from scipy import stats"
   ]
  },
  {
   "cell_type": "markdown",
   "metadata": {},
   "source": [
    "The Following is used to find the correlations from the data by the Census Bureau"
   ]
  },
  {
   "cell_type": "code",
   "execution_count": 2,
   "metadata": {},
   "outputs": [
    {
     "data": {
      "text/html": [
       "<div>\n",
       "<style scoped>\n",
       "    .dataframe tbody tr th:only-of-type {\n",
       "        vertical-align: middle;\n",
       "    }\n",
       "\n",
       "    .dataframe tbody tr th {\n",
       "        vertical-align: top;\n",
       "    }\n",
       "\n",
       "    .dataframe thead th {\n",
       "        text-align: right;\n",
       "    }\n",
       "</style>\n",
       "<table border=\"1\" class=\"dataframe\">\n",
       "  <thead>\n",
       "    <tr style=\"text-align: right;\">\n",
       "      <th></th>\n",
       "      <th>id</th>\n",
       "      <th>state</th>\n",
       "      <th>abbr</th>\n",
       "      <th>poverty</th>\n",
       "      <th>povertyMoe</th>\n",
       "      <th>age</th>\n",
       "      <th>ageMoe</th>\n",
       "      <th>income</th>\n",
       "      <th>incomeMoe</th>\n",
       "      <th>healthcare</th>\n",
       "      <th>healthcareLow</th>\n",
       "      <th>healthcareHigh</th>\n",
       "      <th>obesity</th>\n",
       "      <th>obesityLow</th>\n",
       "      <th>obesityHigh</th>\n",
       "      <th>smokes</th>\n",
       "      <th>smokesLow</th>\n",
       "      <th>smokesHigh</th>\n",
       "      <th>-0.385218228</th>\n",
       "    </tr>\n",
       "  </thead>\n",
       "  <tbody>\n",
       "    <tr>\n",
       "      <th>0</th>\n",
       "      <td>1</td>\n",
       "      <td>Alabama</td>\n",
       "      <td>AL</td>\n",
       "      <td>19.3</td>\n",
       "      <td>0.5</td>\n",
       "      <td>38.6</td>\n",
       "      <td>0.2</td>\n",
       "      <td>42830</td>\n",
       "      <td>598</td>\n",
       "      <td>13.9</td>\n",
       "      <td>12.7</td>\n",
       "      <td>15.1</td>\n",
       "      <td>33.5</td>\n",
       "      <td>32.1</td>\n",
       "      <td>35.0</td>\n",
       "      <td>21.1</td>\n",
       "      <td>19.8</td>\n",
       "      <td>22.5</td>\n",
       "      <td>NaN</td>\n",
       "    </tr>\n",
       "    <tr>\n",
       "      <th>1</th>\n",
       "      <td>2</td>\n",
       "      <td>Alaska</td>\n",
       "      <td>AK</td>\n",
       "      <td>11.2</td>\n",
       "      <td>0.9</td>\n",
       "      <td>33.3</td>\n",
       "      <td>0.3</td>\n",
       "      <td>71583</td>\n",
       "      <td>1784</td>\n",
       "      <td>15.0</td>\n",
       "      <td>13.3</td>\n",
       "      <td>16.6</td>\n",
       "      <td>29.7</td>\n",
       "      <td>27.8</td>\n",
       "      <td>31.6</td>\n",
       "      <td>19.9</td>\n",
       "      <td>18.2</td>\n",
       "      <td>21.6</td>\n",
       "      <td>NaN</td>\n",
       "    </tr>\n",
       "    <tr>\n",
       "      <th>2</th>\n",
       "      <td>4</td>\n",
       "      <td>Arizona</td>\n",
       "      <td>AZ</td>\n",
       "      <td>18.2</td>\n",
       "      <td>0.4</td>\n",
       "      <td>36.9</td>\n",
       "      <td>0.1</td>\n",
       "      <td>50068</td>\n",
       "      <td>483</td>\n",
       "      <td>14.4</td>\n",
       "      <td>13.3</td>\n",
       "      <td>15.6</td>\n",
       "      <td>28.9</td>\n",
       "      <td>27.7</td>\n",
       "      <td>30.2</td>\n",
       "      <td>16.5</td>\n",
       "      <td>15.4</td>\n",
       "      <td>17.6</td>\n",
       "      <td>NaN</td>\n",
       "    </tr>\n",
       "    <tr>\n",
       "      <th>3</th>\n",
       "      <td>5</td>\n",
       "      <td>Arkansas</td>\n",
       "      <td>AR</td>\n",
       "      <td>18.9</td>\n",
       "      <td>0.5</td>\n",
       "      <td>37.8</td>\n",
       "      <td>0.2</td>\n",
       "      <td>41262</td>\n",
       "      <td>653</td>\n",
       "      <td>16.3</td>\n",
       "      <td>14.4</td>\n",
       "      <td>18.2</td>\n",
       "      <td>35.9</td>\n",
       "      <td>33.8</td>\n",
       "      <td>38.0</td>\n",
       "      <td>24.7</td>\n",
       "      <td>22.7</td>\n",
       "      <td>26.7</td>\n",
       "      <td>NaN</td>\n",
       "    </tr>\n",
       "    <tr>\n",
       "      <th>4</th>\n",
       "      <td>6</td>\n",
       "      <td>California</td>\n",
       "      <td>CA</td>\n",
       "      <td>16.4</td>\n",
       "      <td>0.2</td>\n",
       "      <td>36.0</td>\n",
       "      <td>0.1</td>\n",
       "      <td>61933</td>\n",
       "      <td>238</td>\n",
       "      <td>14.8</td>\n",
       "      <td>13.8</td>\n",
       "      <td>15.8</td>\n",
       "      <td>24.7</td>\n",
       "      <td>23.5</td>\n",
       "      <td>25.9</td>\n",
       "      <td>12.9</td>\n",
       "      <td>11.9</td>\n",
       "      <td>13.8</td>\n",
       "      <td>NaN</td>\n",
       "    </tr>\n",
       "  </tbody>\n",
       "</table>\n",
       "</div>"
      ],
      "text/plain": [
       "   id       state abbr  poverty  povertyMoe   age  ageMoe  income  incomeMoe  \\\n",
       "0   1     Alabama   AL     19.3         0.5  38.6     0.2   42830        598   \n",
       "1   2      Alaska   AK     11.2         0.9  33.3     0.3   71583       1784   \n",
       "2   4     Arizona   AZ     18.2         0.4  36.9     0.1   50068        483   \n",
       "3   5    Arkansas   AR     18.9         0.5  37.8     0.2   41262        653   \n",
       "4   6  California   CA     16.4         0.2  36.0     0.1   61933        238   \n",
       "\n",
       "   healthcare  healthcareLow  healthcareHigh  obesity  obesityLow  \\\n",
       "0        13.9           12.7            15.1     33.5        32.1   \n",
       "1        15.0           13.3            16.6     29.7        27.8   \n",
       "2        14.4           13.3            15.6     28.9        27.7   \n",
       "3        16.3           14.4            18.2     35.9        33.8   \n",
       "4        14.8           13.8            15.8     24.7        23.5   \n",
       "\n",
       "   obesityHigh  smokes  smokesLow  smokesHigh  -0.385218228  \n",
       "0         35.0    21.1       19.8        22.5           NaN  \n",
       "1         31.6    19.9       18.2        21.6           NaN  \n",
       "2         30.2    16.5       15.4        17.6           NaN  \n",
       "3         38.0    24.7       22.7        26.7           NaN  \n",
       "4         25.9    12.9       11.9        13.8           NaN  "
      ]
     },
     "execution_count": 2,
     "metadata": {},
     "output_type": "execute_result"
    }
   ],
   "source": [
    "# Importing the file\n",
    "file = \"assets/data/data.csv\"\n",
    "data_pd = pd.read_csv(file)\n",
    "data_pd.head()"
   ]
  },
  {
   "cell_type": "code",
   "execution_count": 5,
   "metadata": {},
   "outputs": [],
   "source": [
    "age = data_pd['age']\n",
    "healthcare = data_pd['healthcare']\n",
    "income = data_pd[\"income\"]\n",
    "smoking = data_pd[\"smokes\"]"
   ]
  },
  {
   "cell_type": "code",
   "execution_count": 6,
   "metadata": {},
   "outputs": [
    {
     "name": "stdout",
     "output_type": "stream",
     "text": [
      "The correlation coefficient between age and healthcare is -0.39\n"
     ]
    },
    {
     "data": {
      "image/png": "[encoded data removed]",
      "text/plain": [
       "<Figure size 432x288 with 1 Axes>"
      ]
     },
     "metadata": {
      "needs_background": "light"
     },
     "output_type": "display_data"
    }
   ],
   "source": [
    "# Creating a regression line for the scatter plot age versus healthcare.\n",
    "x_values = age\n",
    "y_values = healthcare\n",
    "\n",
    "(slope, intercept, rvalue, pvalue, stderr) = stats.linregress(x_values, y_values)\n",
    "\n",
    "# This is used to find any regression value that exists\n",
    "regress_values = x_values * slope + intercept\n",
    "\n",
    "#Creates a line equation and places it on the plot\n",
    "line_eq = \"y = \" + str(round(slope,2)) + \"x + \" + str(round(intercept,2))\n",
    "plt.scatter(x_values,y_values)\n",
    "plt.plot(x_values,regress_values,\"r-\")\n",
    "plt.annotate(line_eq,(37,22),fontsize=14,color=\"red\")\n",
    "\n",
    "# Adds a title and adds labels\n",
    "plt.title(\"Healthcare vs Age\")\n",
    "plt.xlabel('Age')\n",
    "plt.ylabel('Healthcare')\n",
    "\n",
    "# Prints out the coefficients of the regression line.\n",
    "print(f'The correlation coefficient between age and healthcare is {round(rvalue,2)}')\n",
    "\n",
    "plt.show()"
   ]
  },
  {
   "cell_type": "code",
   "execution_count": 9,
   "metadata": {
    "scrolled": true
   },
   "outputs": [
    {
     "name": "stdout",
     "output_type": "stream",
     "text": [
      "The correlation coefficient between age and income is -0.15\n"
     ]
    },
    {
     "data": {
      "image/png": "[encoded data removed]",
      "text/plain": [
       "<Figure size 432x288 with 1 Axes>"
      ]
     },
     "metadata": {
      "needs_background": "light"
     },
     "output_type": "display_data"
    }
   ],
   "source": [
    "# Creating a regression line for the scatter plot age versus income\n",
    "x_values = age\n",
    "y_values = income\n",
    "\n",
    "(slope, intercept, rvalue, pvalue, stderr) = stats.linregress(x_values, y_values)\n",
    "\n",
    "# This is used to find any regression value that exists\n",
    "regress_values = x_values * slope + intercept\n",
    "\n",
    "#Creates a line equation and places it on the plot\n",
    "line_eq = \"y = \" + str(round(slope,2)) + \"x + \" + str(round(intercept,2))\n",
    "plt.scatter(x_values,y_values)\n",
    "plt.plot(x_values,regress_values,\"r-\")\n",
    "plt.annotate(line_eq,(37,22),fontsize=14,color=\"red\")\n",
    "\n",
    "# Adds a title and adds labels\n",
    "plt.title(\"Income vs Age\")\n",
    "plt.xlabel('Age')\n",
    "plt.ylabel('Income')\n",
    "\n",
    "# Prints out the coefficients of the regression line.\n",
    "print(f'The correlation coefficient between age and income is {round(rvalue,2)}')\n",
    "\n",
    "plt.show()"
   ]
  },
  {
   "cell_type": "code",
   "execution_count": 8,
   "metadata": {},
   "outputs": [
    {
     "name": "stdout",
     "output_type": "stream",
     "text": [
      "The correlation coefficient between Age and Smoking is 0.25\n"
     ]
    },
    {
     "data": {
      "image/png": "[encoded data removed]",
      "text/plain": [
       "<Figure size 432x288 with 1 Axes>"
      ]
     },
     "metadata": {
      "needs_background": "light"
     },
     "output_type": "display_data"
    }
   ],
   "source": [
    "# Creating a regression line for the scatter plot age versus smoking.\n",
    "x_values = age\n",
    "y_values = smoking\n",
    "\n",
    "(slope, intercept, rvalue, pvalue, stderr) = stats.linregress(x_values, y_values)\n",
    "\n",
    "# This is used to find any regression value that exists\n",
    "regress_values = x_values * slope + intercept\n",
    "\n",
    "#Creates a line equation and places it on the plot\n",
    "line_eq = \"y = \" + str(round(slope,2)) + \"x + \" + str(round(intercept,2))\n",
    "plt.scatter(x_values,y_values)\n",
    "plt.plot(x_values,regress_values,\"r-\")\n",
    "plt.annotate(line_eq,(37,22),fontsize=14,color=\"red\")\n",
    "\n",
    "# Adds a title and adds labels\n",
    "plt.title(\"Smoking vs Age\")\n",
    "plt.xlabel('Age')\n",
    "plt.ylabel('Smoking')\n",
    "\n",
    "# Prints out the coefficients of the regression line.\n",
    "print(f'The correlation coefficient between Age and Smoking is {round(rvalue,2)}')\n",
    "\n",
    "plt.show()"
   ]
  },
  {
   "cell_type": "code",
   "execution_count": null,
   "metadata": {},
   "outputs": [],
   "source": []
  }
 ],
 "metadata": {
  "kernelspec": {
   "display_name": "Python 3",
   "language": "python",
   "name": "python3"
  },
  "language_info": {
   "codemirror_mode": {
    "name": "ipython",
    "version": 3
   },
   "file_extension": ".py",
   "mimetype": "text/x-python",
   "name": "python",
   "nbconvert_exporter": "python",
   "pygments_lexer": "ipython3",
   "version": "3.7.7"
  }
 },
 "nbformat": 4,
 "nbformat_minor": 4
}
